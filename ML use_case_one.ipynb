{
 "cells": [
  {
   "cell_type": "code",
   "execution_count": 1,
   "id": "77e8d317",
   "metadata": {},
   "outputs": [],
   "source": [
    "import numpy as np\n",
    "import pandas as pd\n",
    "from sklearn.model_selection import train_test_split\n",
    "from sklearn.linear_model import LinearRegression\n",
    "import matplotlib.pyplot as plt\n",
    "from sklearn.preprocessing import PolynomialFeatures\n",
    "from sklearn.metrics import  r2_score\n"
   ]
  },
  {
   "cell_type": "code",
   "execution_count": 2,
   "id": "2548c1aa",
   "metadata": {},
   "outputs": [],
   "source": [
    "np.random.seed(0)\n",
    "n = 15\n",
    "x = np.linspace(0,10,n) + np.random.randn(n)/5\n",
    "y= np.sin(x)+x/6 + np.random.randn(n)/10\n",
    "X_train, X_test, Y_train, Y_test = train_test_split(x, y, random_state=0)\n"
   ]
  },
  {
   "cell_type": "code",
   "execution_count": 3,
   "id": "f05958d0",
   "metadata": {},
   "outputs": [],
   "source": [
    "X_train = X_train.reshape(11,1)\n",
    "Y_train = Y_train.reshape(11,1)"
   ]
  },
  {
   "cell_type": "code",
   "execution_count": 4,
   "id": "ba1920cc",
   "metadata": {},
   "outputs": [
    {
     "data": {
      "text/plain": [
       "(array([[0.26920155],\n",
       "        [0.30152425],\n",
       "        [0.33384695],\n",
       "        [0.36616966],\n",
       "        [0.39849236],\n",
       "        [0.43081507],\n",
       "        [0.46313777],\n",
       "        [0.49546047],\n",
       "        [0.52778318],\n",
       "        [0.56010588],\n",
       "        [0.59242858],\n",
       "        [0.62475129],\n",
       "        [0.65707399],\n",
       "        [0.6893967 ],\n",
       "        [0.7217194 ],\n",
       "        [0.7540421 ],\n",
       "        [0.78636481],\n",
       "        [0.81868751],\n",
       "        [0.85101021],\n",
       "        [0.88333292],\n",
       "        [0.91565562],\n",
       "        [0.94797832],\n",
       "        [0.98030103],\n",
       "        [1.01262373],\n",
       "        [1.04494644],\n",
       "        [1.07726914],\n",
       "        [1.10959184],\n",
       "        [1.14191455],\n",
       "        [1.17423725],\n",
       "        [1.20655995],\n",
       "        [1.23888266],\n",
       "        [1.27120536],\n",
       "        [1.30352807],\n",
       "        [1.33585077],\n",
       "        [1.36817347],\n",
       "        [1.40049618],\n",
       "        [1.43281888],\n",
       "        [1.46514158],\n",
       "        [1.49746429],\n",
       "        [1.52978699],\n",
       "        [1.56210969],\n",
       "        [1.5944324 ],\n",
       "        [1.6267551 ],\n",
       "        [1.65907781],\n",
       "        [1.69140051],\n",
       "        [1.72372321],\n",
       "        [1.75604592],\n",
       "        [1.78836862],\n",
       "        [1.82069132],\n",
       "        [1.85301403]]),\n",
       " array([[ 1.18821982],\n",
       "        [ 0.94624845],\n",
       "        [ 0.70427709],\n",
       "        [ 0.46230573],\n",
       "        [ 0.22033436],\n",
       "        [-0.021637  ],\n",
       "        [-0.26360836],\n",
       "        [-0.50557973],\n",
       "        [-0.74755109],\n",
       "        [-0.98952245],\n",
       "        [-1.23149382],\n",
       "        [-1.47346518],\n",
       "        [-1.71543654],\n",
       "        [-1.95740791],\n",
       "        [-2.19937927],\n",
       "        [-2.44135063],\n",
       "        [-2.683322  ],\n",
       "        [-2.92529336],\n",
       "        [-3.16726472],\n",
       "        [-3.40923608],\n",
       "        [-3.65120745],\n",
       "        [-3.89317881],\n",
       "        [-4.13515017],\n",
       "        [-4.37712154],\n",
       "        [-4.6190929 ]]),\n",
       " array([[ 7.05917170e+00],\n",
       "        [ 3.31394770e-02],\n",
       "        [-6.99289275e+00],\n",
       "        [-1.40189250e+01],\n",
       "        [-2.10449572e+01],\n",
       "        [-2.80709894e+01],\n",
       "        [-3.50970216e+01],\n",
       "        [-4.21230539e+01],\n",
       "        [-4.91490861e+01],\n",
       "        [-5.61751183e+01]]))"
      ]
     },
     "execution_count": 4,
     "metadata": {},
     "output_type": "execute_result"
    }
   ],
   "source": [
    "def question_one(degree):\n",
    "    polynomial_features= PolynomialFeatures(degree)\n",
    "    x_poly = polynomial_features.fit_transform(X_train)\n",
    "    predict= np.linspace(0,10,100)\n",
    "    predict = np.reshape(predict, (-1, degree+1))\n",
    "    model = LinearRegression()\n",
    "    model.fit(x_poly,Y_train)\n",
    "    y_poly_pred = model.predict(predict)\n",
    "    return y_poly_pred\n",
    "\n",
    "def q_1():\n",
    "    x = question_one(1)\n",
    "    y = question_one(3)\n",
    "#    z = question_one(6)\n",
    "    a = question_one(9)\n",
    "#     array_of_tuples = (tuple, x,y,a)\n",
    "\n",
    "    return x,y,a\n",
    "q_1()"
   ]
  },
  {
   "cell_type": "code",
   "execution_count": 27,
   "id": "6d1c33bf",
   "metadata": {},
   "outputs": [
    {
     "name": "stdout",
     "output_type": "stream",
     "text": [
      "(<class 'tuple'>, 1.0, -2.928577561678502)\n",
      "(<class 'tuple'>, -0.24828904522027617, -2.928577561678502)\n",
      "(<class 'tuple'>, -0.5174107798758666, -2.928577561678502)\n",
      "(<class 'tuple'>, -0.5937394085468037, -2.928577561678502)\n",
      "(<class 'tuple'>, -0.6102831396995204, -2.928577561678502)\n",
      "(<class 'tuple'>, -0.6044666513025782, -2.928577561678502)\n",
      "(<class 'tuple'>, -0.589473847801035, -2.928577561678502)\n",
      "(<class 'tuple'>, -0.5707290854099303, -2.928577561678502)\n",
      "(<class 'tuple'>, -0.550726408575471, -2.928577561678502)\n",
      "(<class 'tuple'>, -0.530692893880487, -2.928577561678502)\n"
     ]
    }
   ],
   "source": [
    "\n",
    "\n",
    "def question_two(i):\n",
    "    polynomial_features = PolynomialFeatures(degree=i)\n",
    "    x_poly = polynomial_features.fit_transform(X_train)\n",
    "    x_poly_test = polynomial_features.fit_transform(Y_train)\n",
    "    model = LinearRegression()\n",
    "    model.fit(x_poly,Y_train)\n",
    "    y_pred = model.predict(x_poly)\n",
    "    r2_train = r2_score(x_poly, x_poly_test)\n",
    "    r2_test = r2_score(X_test, Y_test)\n",
    "    array_of_tuples = (tuple, r2_train,r2_test)\n",
    "    return array_of_tuples\n",
    "\n",
    "for i in range(0,10):\n",
    "    answer  = question_two(i)\n",
    "    print(answer)"
   ]
  },
  {
   "cell_type": "code",
   "execution_count": null,
   "id": "0aaf93f6",
   "metadata": {},
   "outputs": [],
   "source": []
  },
  {
   "cell_type": "code",
   "execution_count": 10,
   "id": "96992369",
   "metadata": {},
   "outputs": [
    {
     "name": "stdout",
     "output_type": "stream",
     "text": [
      "Model is underfitting when model performs poorly on the training data. This is because the model is unable to capture the relationship between the input examples (often called X) and the target values (often called Y).\n",
      " \n",
      "\n",
      "Model is overfitting when you see that the model performs well on the training data but does not perform well on the evaluation data. This is because the model is memorizing the data it has seen and is unable to generalize to unseen examples.\n"
     ]
    }
   ],
   "source": [
    "print(\"Model is underfitting when model performs poorly on the training data. This is because the model is unable to capture the relationship between the input examples (often called X) and the target values (often called Y).\\n \\n\" )\n",
    "print(\"Model is overfitting when you see that the model performs well on the training data but does not perform well on the evaluation data. This is because the model is memorizing the data it has seen and is unable to generalize to unseen examples.\")"
   ]
  },
  {
   "cell_type": "markdown",
   "id": "b05596ec",
   "metadata": {},
   "source": [
    "#### Model is underfitting when model performs poorly on the training data. This is because the model is unable to capture the relationship between the input examples (often called X) and the target values (often called Y).\n",
    " \n",
    "\n",
    "##### Model is overfitting when you see that the model performs well on the training data but does not perform well on the evaluation data. This is because the model is memorizing the data it has seen and is unable to generalize to unseen examples.\n",
    "\n",
    "#### Training models on high degree polynomial features can result in overly complex models that overfit,"
   ]
  },
  {
   "cell_type": "code",
   "execution_count": 16,
   "id": "0ae2963d",
   "metadata": {},
   "outputs": [
    {
     "name": "stdout",
     "output_type": "stream",
     "text": [
      "1.0 -2.928577561678502\n",
      "-0.24828904522027617 -2.928577561678502\n",
      "-0.5174107798758666 -2.928577561678502\n",
      "-0.5937394085468037 -2.928577561678502\n",
      "-0.6102831396995204 -2.928577561678502\n",
      "-0.6044666513025782 -2.928577561678502\n",
      "-0.589473847801035 -2.928577561678502\n",
      "-0.5707290854099303 -2.928577561678502\n",
      "-0.550726408575471 -2.928577561678502\n",
      "-0.530692893880487 -2.928577561678502\n"
     ]
    },
    {
     "data": {
      "text/plain": [
       "[<matplotlib.lines.Line2D at 0x1cf4c02a7f0>,\n",
       " <matplotlib.lines.Line2D at 0x1cf4c02a820>,\n",
       " <matplotlib.lines.Line2D at 0x1cf4c02a8e0>,\n",
       " <matplotlib.lines.Line2D at 0x1cf4c02a9a0>,\n",
       " <matplotlib.lines.Line2D at 0x1cf4c02aa60>,\n",
       " <matplotlib.lines.Line2D at 0x1cf4c02ab20>,\n",
       " <matplotlib.lines.Line2D at 0x1cf4c02abe0>,\n",
       " <matplotlib.lines.Line2D at 0x1cf4c02aca0>,\n",
       " <matplotlib.lines.Line2D at 0x1cf4c02ad60>,\n",
       " <matplotlib.lines.Line2D at 0x1cf4c02ae20>]"
      ]
     },
     "execution_count": 16,
     "metadata": {},
     "output_type": "execute_result"
    },
    {
     "data": {
      "image/png": "[encoded data removed]",
      "text/plain": [
       "<Figure size 432x288 with 1 Axes>"
      ]
     },
     "metadata": {
      "needs_background": "light"
     },
     "output_type": "display_data"
    }
   ],
   "source": [
    "for i in range(0,10):\n",
    "    polynomial_features = PolynomialFeatures(degree=i)\n",
    "    x_poly = polynomial_features.fit_transform(X_train)\n",
    "    x_poly_test = polynomial_features.fit_transform(Y_train)\n",
    "    model = LinearRegression()\n",
    "    model.fit(x_poly,Y_train)\n",
    "    y_pred = model.predict(x_poly)\n",
    "    r2_train = r2_score(x_poly, x_poly_test)\n",
    "    r2_test = r2_score(X_test, Y_test)\n",
    "    array_of_tuples = (tuple, r2_train,r2_test)\n",
    "    print(r2_train, r2_test)\n",
    "    plt.plot(x_poly, x_poly_test, label='training data')\n",
    "\n",
    "    \n",
    "\n",
    "\n",
    "# plt.figure()\n",
    "# plt.scatter(r2_train, r2_test, label='training data')\n",
    "\n",
    "# plt.plot(X_test, Y_test, label='training data')\n",
    "# plt.plot(x_poly, x_poly_test, label='training data')\n",
    "# plt.scatter(X_test, Y_test, label='test data')"
   ]
  },
  {
   "cell_type": "code",
   "execution_count": null,
   "id": "8d9b5841",
   "metadata": {},
   "outputs": [],
   "source": []
  }
 ],
 "metadata": {
  "kernelspec": {
   "display_name": "Python 3",
   "language": "python",
   "name": "python3"
  },
  "language_info": {
   "codemirror_mode": {
    "name": "ipython",
    "version": 3
   },
   "file_extension": ".py",
   "mimetype": "text/x-python",
   "name": "python",
   "nbconvert_exporter": "python",
   "pygments_lexer": "ipython3",
   "version": "3.8.8"
  }
 },
 "nbformat": 4,
 "nbformat_minor": 5
}
